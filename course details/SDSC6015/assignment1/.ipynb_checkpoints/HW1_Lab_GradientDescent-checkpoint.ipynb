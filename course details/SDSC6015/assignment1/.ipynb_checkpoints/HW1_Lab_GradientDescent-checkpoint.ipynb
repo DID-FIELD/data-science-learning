{
 "cells": [
  {
   "cell_type": "code",
   "execution_count": 196,
   "metadata": {
    "ExecuteTime": {
     "end_time": "2025-09-30T13:39:11.680799Z",
     "start_time": "2025-09-30T13:39:10.991075Z"
    },
    "id": "xD2P1zhbpDbu"
   },
   "outputs": [],
   "source": [
    "# Useful starting lines\n",
    "%matplotlib inline\n",
    "import numpy as np\n",
    "import matplotlib.pyplot as plt\n",
    "%reload_ext autoreload\n",
    "%autoreload 2"
   ]
  },
  {
   "cell_type": "code",
   "execution_count": 197,
   "metadata": {
    "ExecuteTime": {
     "end_time": "2025-09-30T13:39:13.707174Z",
     "start_time": "2025-09-30T13:39:13.584859Z"
    },
    "id": "UAAOdnFkpDbx",
    "scrolled": true
   },
   "outputs": [
    {
     "name": "stdout",
     "output_type": "stream",
     "text": [
      "You are running Python 3. Good job :)\n"
     ]
    }
   ],
   "source": [
    "# Check the Python version\n",
    "import sys\n",
    "if sys.version.startswith(\"3.\"):\n",
    "  print(\"You are running Python 3. Good job :)\")\n",
    "else:\n",
    "  print(\"This notebook requires Python 3.\\nIf you are using Google Colab, go to Runtime > Change runtime type and choose Python 3.\")"
   ]
  },
  {
   "cell_type": "code",
   "execution_count": 198,
   "metadata": {
    "id": "kkPAApHCpDby"
   },
   "outputs": [],
   "source": [
    "# Load the data"
   ]
  },
  {
   "cell_type": "code",
   "execution_count": 199,
   "metadata": {
    "ExecuteTime": {
     "end_time": "2025-09-30T13:40:18.669617Z",
     "start_time": "2025-09-30T13:40:18.524477Z"
    },
    "id": "NTu6Xg0jpDbz"
   },
   "outputs": [],
   "source": [
    "import datetime\n",
    "from helpers import *\n",
    "\n",
    "height, weight, gender = load_data(sub_sample=False, add_outlier=False)\n",
    "x, mean_x, std_x = standardize(height)\n",
    "b, A = build_model_data(x, weight)"
   ]
  },
  {
   "cell_type": "code",
   "execution_count": 200,
   "metadata": {
    "id": "eS6lTYWspDbz"
   },
   "outputs": [
    {
     "name": "stdout",
     "output_type": "stream",
     "text": [
      "Number of samples n =  10000\n",
      "Dimension of each sample d =  2\n"
     ]
    }
   ],
   "source": [
    "print('Number of samples n = ', b.shape[0])\n",
    "print('Dimension of each sample d = ', A.shape[1])"
   ]
  },
  {
   "cell_type": "markdown",
   "metadata": {
    "id": "mKK8cVCfpDb0"
   },
   "source": [
    "# Least Squares Estimation\n",
    "Least squares estimation is one of the fundamental machine learning algorithms. Given an $ n \\times d $ matrix $A$ and a $ n \\times 1$ vector $b$, the goal is to find a vector $x \\in \\mathbb{R}^d$ which minimizes the objective function $$f(x) = \\frac{1}{2n} \\sum_{i=1}^{n} (a_i^\\top x - b_i)^2 = \\frac{1}{2n} \\|Ax - b\\|^2 $$\n",
    "\n",
    "In this exercise, we will try to fit $x$ using Least Squares Estimation.\n",
    "\n",
    "One can see the function is $L$ smooth with $L =\\frac1n\\|A^T A\\|  = \\frac1n\\|A\\|^2$."
   ]
  },
  {
   "cell_type": "markdown",
   "metadata": {
    "id": "sGVkfxiUpDb0"
   },
   "source": [
    "# Computing the Objective Function\n",
    "Fill in the `calculate_objective` function below:"
   ]
  },
  {
   "cell_type": "code",
   "execution_count": 201,
   "metadata": {
    "id": "gV_DfwrvpDb0"
   },
   "outputs": [],
   "source": [
    "def calculate_objective(Axmb):\n",
    "    \"\"\"Calculate the mean squared error for vector Axmb = Ax - b.\"\"\"\n",
    "    # ***************************************************\n",
    "    # INSERT YOUR CODE HERE\n",
    "    # TODO: compute mean squared error\n",
    "    # ***************************************************  \n",
    "    squared = Axmb ** 2\n",
    "    sum_squared = np.sum(squared)\n",
    "    mse = 0.5 * sum_squared / len(Axmb)\n",
    "    return mse"
   ]
  },
  {
   "cell_type": "markdown",
   "metadata": {
    "id": "BNQ7UXT5pDb0"
   },
   "source": [
    "# Compute smoothness constant $L$"
   ]
  },
  {
   "cell_type": "markdown",
   "metadata": {
    "id": "Ujy_vVH8pDb0"
   },
   "source": [
    "To compute the spectral norm of A you can use np.linalg.norm(A, 2)"
   ]
  },
  {
   "cell_type": "code",
   "execution_count": 202,
   "metadata": {
    "id": "_dd1TeS9pDb1"
   },
   "outputs": [],
   "source": [
    "def calculate_L(b, A):\n",
    "    \"\"\"Calculate the smoothness constant for f\"\"\"\n",
    "    # ***************************************************\n",
    "    # INSERT YOUR CODE HERE\n",
    "    # TODO: compute ||A.T*A||\n",
    "    # ***************************************************\n",
    "    ATA = A.T @ A\n",
    "    # ***************************************************\n",
    "    # INSERT YOUR CODE HERE\n",
    "    # TODO: compute L = smoothness constant of f\n",
    "    # ***************************************************\n",
    "    L = np.linalg,norm(ATA, 2) / len(Axmb)\n",
    "    return L"
   ]
  },
  {
   "cell_type": "markdown",
   "metadata": {
    "id": "PMv1PayMpDb1"
   },
   "source": [
    "# Gradient Descent"
   ]
  },
  {
   "cell_type": "markdown",
   "metadata": {
    "id": "7q15BQAzpDb1"
   },
   "source": [
    "Please fill in the functions `compute_gradient` below:"
   ]
  },
  {
   "cell_type": "code",
   "execution_count": 203,
   "metadata": {
    "id": "vmob5bfDpDb1"
   },
   "outputs": [],
   "source": [
    "def compute_gradient(b, A, x):\n",
    "    \"\"\"Compute the gradient.\"\"\"\n",
    "    # ***************************************************\n",
    "    # INSERT YOUR CODE HERE\n",
    "    # TODO: compute gradient and objective\n",
    "    # ***************************************************\n",
    "    Axmb = A @ x - b\n",
    "    grad = A.T @ Axmb / len(Axmb)\n",
    "    return grad, Axmb"
   ]
  },
  {
   "cell_type": "markdown",
   "metadata": {
    "id": "P2wvmrNrpDb1"
   },
   "source": [
    "Please fill in the functions `gradient_descent` below:"
   ]
  },
  {
   "cell_type": "code",
   "execution_count": 204,
   "metadata": {
    "id": "XSlYthYwpDb1"
   },
   "outputs": [],
   "source": [
    "def gradient_descent(b, A, initial_x, max_iters, gamma):\n",
    "    \"\"\"Gradient descent algorithm.\"\"\"\n",
    "    # Define parameters to store x and objective func. values\n",
    "    xs = [initial_x]\n",
    "    objectives = []\n",
    "    x = initial_x\n",
    "    for n_iter in range(max_iters):\n",
    "        # ***************************************************\n",
    "        # INSERT YOUR CODE HERE\n",
    "        # TODO: compute gradient and objective function\n",
    "        # ***************************************************\n",
    "        grad, Axmb = compute_gradient(b, A, x)\n",
    "        obj = 0.5 * np.sum(Axmb ** 2) / len (Axmb)\n",
    "        # ***************************************************\n",
    "        # INSERT YOUR CODE HERE\n",
    "        # TODO: update x by a gradient descent step\n",
    "        # ***************************************************\n",
    "        x = x - gamma * grad\n",
    "        # store x and objective function value\n",
    "        xs.append(x)\n",
    "        objectives.append(obj)\n",
    "        print(\"Gradient Descent({bi}/{ti}): objective={l}\".format(\n",
    "              bi=n_iter, ti=max_iters - 1, l=obj))\n",
    "\n",
    "    return objectives, xs"
   ]
  },
  {
   "cell_type": "markdown",
   "metadata": {
    "id": "vQ2YLYEspDb2"
   },
   "source": [
    "Test your gradient descent function with a naive step size through gradient descent demo shown below:"
   ]
  },
  {
   "cell_type": "code",
   "execution_count": 205,
   "metadata": {
    "id": "4W3JavxYpDb2"
   },
   "outputs": [
    {
     "name": "stdout",
     "output_type": "stream",
     "text": [
      "Gradient Descent(0/49): objective=2792.2367127591674\n",
      "Gradient Descent(1/49): objective=77.86503142886588\n",
      "Gradient Descent(2/49): objective=16.791668598930205\n",
      "Gradient Descent(3/49): objective=15.417517935256669\n",
      "Gradient Descent(4/49): objective=15.386599545324014\n",
      "Gradient Descent(5/49): objective=15.385903881550528\n",
      "Gradient Descent(6/49): objective=15.385888229115624\n",
      "Gradient Descent(7/49): objective=15.385887876935838\n",
      "Gradient Descent(8/49): objective=15.385887869011794\n",
      "Gradient Descent(9/49): objective=15.385887868833503\n",
      "Gradient Descent(10/49): objective=15.385887868829494\n",
      "Gradient Descent(11/49): objective=15.385887868829403\n",
      "Gradient Descent(12/49): objective=15.3858878688294\n",
      "Gradient Descent(13/49): objective=15.385887868829398\n",
      "Gradient Descent(14/49): objective=15.3858878688294\n",
      "Gradient Descent(15/49): objective=15.3858878688294\n",
      "Gradient Descent(16/49): objective=15.385887868829398\n",
      "Gradient Descent(17/49): objective=15.3858878688294\n",
      "Gradient Descent(18/49): objective=15.3858878688294\n",
      "Gradient Descent(19/49): objective=15.3858878688294\n",
      "Gradient Descent(20/49): objective=15.3858878688294\n",
      "Gradient Descent(21/49): objective=15.3858878688294\n",
      "Gradient Descent(22/49): objective=15.3858878688294\n",
      "Gradient Descent(23/49): objective=15.3858878688294\n",
      "Gradient Descent(24/49): objective=15.3858878688294\n",
      "Gradient Descent(25/49): objective=15.3858878688294\n",
      "Gradient Descent(26/49): objective=15.3858878688294\n",
      "Gradient Descent(27/49): objective=15.3858878688294\n",
      "Gradient Descent(28/49): objective=15.3858878688294\n",
      "Gradient Descent(29/49): objective=15.3858878688294\n",
      "Gradient Descent(30/49): objective=15.3858878688294\n",
      "Gradient Descent(31/49): objective=15.3858878688294\n",
      "Gradient Descent(32/49): objective=15.3858878688294\n",
      "Gradient Descent(33/49): objective=15.3858878688294\n",
      "Gradient Descent(34/49): objective=15.3858878688294\n",
      "Gradient Descent(35/49): objective=15.3858878688294\n",
      "Gradient Descent(36/49): objective=15.3858878688294\n",
      "Gradient Descent(37/49): objective=15.3858878688294\n",
      "Gradient Descent(38/49): objective=15.3858878688294\n",
      "Gradient Descent(39/49): objective=15.3858878688294\n",
      "Gradient Descent(40/49): objective=15.3858878688294\n",
      "Gradient Descent(41/49): objective=15.3858878688294\n",
      "Gradient Descent(42/49): objective=15.3858878688294\n",
      "Gradient Descent(43/49): objective=15.3858878688294\n",
      "Gradient Descent(44/49): objective=15.3858878688294\n",
      "Gradient Descent(45/49): objective=15.3858878688294\n",
      "Gradient Descent(46/49): objective=15.3858878688294\n",
      "Gradient Descent(47/49): objective=15.3858878688294\n",
      "Gradient Descent(48/49): objective=15.3858878688294\n",
      "Gradient Descent(49/49): objective=15.3858878688294\n",
      "Gradient Descent: execution time=0.002 seconds\n"
     ]
    }
   ],
   "source": [
    "# from gradient_descent import *\n",
    "from plots import gradient_descent_visualization\n",
    "\n",
    "# Define the parameters of the algorithm.\n",
    "max_iters = 50\n",
    "\n",
    "gamma = 0.85\n",
    "\n",
    "# Initialization\n",
    "x_initial = np.zeros(A.shape[1])\n",
    "\n",
    "# Start gradient descent.\n",
    "start_time = datetime.datetime.now()\n",
    "gradient_objectives_naive, gradient_xs_naive = gradient_descent(b, A, x_initial, max_iters, gamma)\n",
    "end_time = datetime.datetime.now()\n",
    "\n",
    "# Print result\n",
    "exection_time = (end_time - start_time).total_seconds()\n",
    "print(\"Gradient Descent: execution time={t:.3f} seconds\".format(t=exection_time))"
   ]
  },
  {
   "cell_type": "markdown",
   "metadata": {
    "id": "UHTA0v1cpDb2"
   },
   "source": [
    "Time Visualization"
   ]
  },
  {
   "cell_type": "code",
   "execution_count": 182,
   "metadata": {
    "id": "oSsle4FepDb2",
    "scrolled": true
   },
   "outputs": [
    {
     "data": {
      "application/vnd.jupyter.widget-view+json": {
       "model_id": "13d4a66396c84e84b3720d6d129565e1",
       "version_major": 2,
       "version_minor": 0
      },
      "text/plain": [
       "interactive(children=(IntSlider(value=1, description='n_iter', max=51, min=1), Output()), _dom_classes=('widge…"
      ]
     },
     "metadata": {},
     "output_type": "display_data"
    },
    {
     "data": {
      "text/plain": [
       "<function __main__.plot_figure(n_iter)>"
      ]
     },
     "execution_count": 182,
     "metadata": {},
     "output_type": "execute_result"
    }
   ],
   "source": [
    "from ipywidgets import interact, IntSlider\n",
    "from grid_search import *\n",
    "\n",
    "\n",
    "def plot_figure(n_iter):\n",
    "    # Generate grid data for visualization (parameters to be swept and best combination)\n",
    "    grid_x0, grid_x1 = generate_w(num_intervals=10)\n",
    "    grid_objectives = grid_search(b, A, grid_x0, grid_x1)\n",
    "    obj_star, x0_star, x1_star = get_best_parameters(grid_x0, grid_x1, grid_objectives)\n",
    "\n",
    "    fig = gradient_descent_visualization(\n",
    "        gradient_objectives, gradient_xs, grid_objectives, grid_x0, grid_x1, mean_x, std_x, height, weight, n_iter)\n",
    "    fig.set_size_inches(20.0, 4.0)\n",
    "    display(fig)\n",
    "\n",
    "interact(plot_figure, n_iter=IntSlider(min=1, max=len(gradient_xs_naive)))"
   ]
  },
  {
   "cell_type": "markdown",
   "metadata": {
    "id": "y6WaHCuppDb2"
   },
   "source": [
    "Try doing gradient descent with a better learning rate"
   ]
  },
  {
   "cell_type": "code",
   "execution_count": 181,
   "metadata": {
    "id": "CbP1ldiUpDb2"
   },
   "outputs": [
    {
     "name": "stdout",
     "output_type": "stream",
     "text": [
      "Gradient Descent(0/49): objective=780.8686016504854\n",
      "Gradient Descent(1/49): objective=773.251154488717\n",
      "Gradient Descent(2/49): objective=766.3890713588925\n",
      "Gradient Descent(3/49): objective=760.2039370530574\n",
      "Gradient Descent(4/49): objective=754.6257563657889\n",
      "Gradient Descent(5/49): objective=749.5920220920866\n",
      "Gradient Descent(6/49): objective=745.046889499426\n",
      "Gradient Descent(7/49): objective=740.9404446521098\n",
      "Gradient Descent(8/49): objective=737.2280555322218\n",
      "Gradient Descent(9/49): objective=733.8697962622064\n",
      "Gradient Descent(10/49): objective=730.8299359180801\n",
      "Gradient Descent(11/49): objective=728.0764844539572\n",
      "Gradient Descent(12/49): objective=725.580789158749\n",
      "Gradient Descent(13/49): objective=723.317175852385\n",
      "Gradient Descent(14/49): objective=721.2626297169031\n",
      "Gradient Descent(15/49): objective=719.3965112603233\n",
      "Gradient Descent(16/49): objective=717.7003034395566\n",
      "Gradient Descent(17/49): objective=716.1573864323553\n",
      "Gradient Descent(18/49): objective=714.7528369557789\n",
      "Gradient Descent(19/49): objective=713.47324938702\n",
      "Gradient Descent(20/49): objective=712.3065762579041\n",
      "Gradient Descent(21/49): objective=711.241985972315\n",
      "Gradient Descent(22/49): objective=710.2697358408802\n",
      "Gradient Descent(23/49): objective=709.3810587435117\n",
      "Gradient Descent(24/49): objective=708.5680619213746\n",
      "Gradient Descent(25/49): objective=707.8236365686215\n",
      "Gradient Descent(26/49): objective=707.1413770434442\n",
      "Gradient Descent(27/49): objective=706.5155086500336\n",
      "Gradient Descent(28/49): objective=705.9408230599074\n",
      "Gradient Descent(29/49): objective=705.4126205446067\n",
      "Gradient Descent(30/49): objective=704.9266582834891\n",
      "Gradient Descent(31/49): objective=704.4791040917067\n",
      "Gradient Descent(32/49): objective=704.0664949855989\n",
      "Gradient Descent(33/49): objective=703.6857000667632\n",
      "Gradient Descent(34/49): objective=703.333887262911\n",
      "Gradient Descent(35/49): objective=703.0084935140999\n",
      "Gradient Descent(36/49): objective=702.7071980377789\n",
      "Gradient Descent(37/49): objective=702.42789834596\n",
      "Gradient Descent(38/49): objective=702.1686887232516\n",
      "Gradient Descent(39/49): objective=701.927840906029\n",
      "Gradient Descent(40/49): objective=701.703786731037\n",
      "Gradient Descent(41/49): objective=701.495102546697\n",
      "Gradient Descent(42/49): objective=701.3004952025822\n",
      "Gradient Descent(43/49): objective=701.1187894523173\n",
      "Gradient Descent(44/49): objective=700.9489166227798\n",
      "Gradient Descent(45/49): objective=700.7899044181594\n",
      "Gradient Descent(46/49): objective=700.6408677414381\n",
      "Gradient Descent(47/49): objective=700.5010004283125\n",
      "Gradient Descent(48/49): objective=700.3695677996996\n",
      "Gradient Descent(49/49): objective=700.2458999488812\n",
      "Gradient Descent: execution time=0.001 seconds\n"
     ]
    }
   ],
   "source": [
    "# Define the parameters of the algorithm.\n",
    "max_iters = 50\n",
    "\n",
    "# ***************************************************\n",
    "# INSERT YOUR CODE HERE\n",
    "# TODO: a better learning rate using the smoothness of f\n",
    "# ***************************************************\n",
    "L = np.linalg.norm(A.T @ A, 2)\n",
    "gamma = 100 / L\n",
    "\n",
    "# Initialization\n",
    "x_initial = np.zeros(A.shape[1])\n",
    "\n",
    "# Start gradient descent.\n",
    "start_time = datetime.datetime.now()\n",
    "gradient_objectives, gradient_xs = gradient_descent(b, A, x_initial, max_iters, gamma)\n",
    "end_time = datetime.datetime.now()\n",
    "\n",
    "# Print result\n",
    "exection_time = (end_time - start_time).total_seconds()\n",
    "print(\"Gradient Descent: execution time={t:.3f} seconds\".format(t=exection_time))"
   ]
  },
  {
   "cell_type": "markdown",
   "metadata": {
    "id": "BiwJ5k5cpDb3"
   },
   "source": [
    "Time visualization with a better learning rate"
   ]
  },
  {
   "cell_type": "code",
   "execution_count": 184,
   "metadata": {
    "id": "PSMRtILhpDb3"
   },
   "outputs": [
    {
     "data": {
      "application/vnd.jupyter.widget-view+json": {
       "model_id": "b4cab43691a344b9b817366c69295ec7",
       "version_major": 2,
       "version_minor": 0
      },
      "text/plain": [
       "interactive(children=(IntSlider(value=1, description='n_iter', max=51, min=1), Output()), _dom_classes=('widge…"
      ]
     },
     "metadata": {},
     "output_type": "display_data"
    },
    {
     "data": {
      "text/plain": [
       "<function __main__.plot_figure(n_iter)>"
      ]
     },
     "execution_count": 184,
     "metadata": {},
     "output_type": "execute_result"
    }
   ],
   "source": [
    "def plot_figure(n_iter):\n",
    "    # Generate grid data for visualization (parameters to be swept and best combination)\n",
    "    grid_x0, grid_x1 = generate_w(num_intervals=10)\n",
    "    grid_objectives = grid_search(b, A, grid_x0, grid_x1)\n",
    "    obj_star, x0_star, x1_star = get_best_parameters(grid_x0, grid_x1, grid_objectives)\n",
    "\n",
    "    fig = gradient_descent_visualization(\n",
    "        gradient_objectives, gradient_xs, grid_objectives, grid_x0, grid_x1, mean_x, std_x, height, weight, n_iter)\n",
    "    fig.set_size_inches(10.0, 6.0)\n",
    "    display(fig)\n",
    "\n",
    "interact(plot_figure, n_iter=IntSlider(min=1, max=len(gradient_xs)))"
   ]
  },
  {
   "cell_type": "markdown",
   "metadata": {
    "id": "drCRKXXtpDb3"
   },
   "source": [
    "# Loading more complex data\n",
    "The data is taken from https://archive.ics.uci.edu/ml/datasets/Concrete+Compressive+Strength"
   ]
  },
  {
   "cell_type": "code",
   "execution_count": 185,
   "metadata": {
    "id": "tz9RUz0RpDb3"
   },
   "outputs": [],
   "source": [
    "data = np.loadtxt(\"Concrete_Data.csv\",delimiter=\",\")\n",
    "\n",
    "A = data[:,:-1]\n",
    "b = data[:,-1]\n",
    "A, mean_A, std_A = standardize(A)"
   ]
  },
  {
   "cell_type": "code",
   "execution_count": 186,
   "metadata": {
    "id": "fMYmoUerpDb3"
   },
   "outputs": [
    {
     "name": "stdout",
     "output_type": "stream",
     "text": [
      "Number of samples n =  1030\n",
      "Dimension of each sample d =  8\n"
     ]
    }
   ],
   "source": [
    "print('Number of samples n = ', b.shape[0])\n",
    "print('Dimension of each sample d = ', A.shape[1])"
   ]
  },
  {
   "cell_type": "markdown",
   "metadata": {
    "id": "k1lfoFZqpDb3"
   },
   "source": [
    "# Running gradient descent"
   ]
  },
  {
   "cell_type": "markdown",
   "metadata": {
    "id": "XQVRtOsZpDb3"
   },
   "source": [
    "## Assuming bounded gradients\n",
    "Assume we are moving in a bounded region $\\|x\\| \\leq 25$ containing all iterates (and we assume $\\|x-x^\\star\\| \\leq 25$ as well, for simplicity). Then by $\\nabla f(x) = \\frac{1}{n}A^\\top (Ax - b)$, one can see that $f$ is Lipschitz over that bounded region, with Lipschitz constant $\\|\\nabla f(x)\\| \\leq \\frac{1}{n} (\\|A^\\top A\\|\\|x\\| + \\|A^\\top b\\|)$"
   ]
  },
  {
   "cell_type": "code",
   "execution_count": 187,
   "metadata": {
    "id": "Mb6BzwN3pDb4"
   },
   "outputs": [],
   "source": [
    "# ***************************************************\n",
    "# INSERT YOUR CODE HERE\n",
    "# TODO: Compute the bound on the gradient norm\n",
    "# ***************************************************\n",
    "norm_ATA = np.linalg.norm(A.T @ A, 2)\n",
    "norm_ATb = np.linalg.norm(A.T @ b, 2)\n",
    "n = b.shape[0]\n",
    "grad_norm_bound = (norm_ATA * 25 + norm_ATb) / n"
   ]
  },
  {
   "cell_type": "markdown",
   "metadata": {
    "id": "9f23hcRUpDb4"
   },
   "source": [
    "Fill in the learning rate assuming bounded gradients"
   ]
  },
  {
   "cell_type": "code",
   "execution_count": 191,
   "metadata": {
    "id": "6Q7Y2s_ipDb4"
   },
   "outputs": [
    {
     "name": "stdout",
     "output_type": "stream",
     "text": [
      "grad_norm_bound: 70.55157320349318\n",
      "gamma: 0.14174028368094385\n",
      "Gradient Descent(0/49): objective=780.8686016504854\n",
      "Gradient Descent(1/49): objective=757.0572465196063\n",
      "Gradient Descent(2/49): objective=740.5812543624813\n",
      "Gradient Descent(3/49): objective=729.084584479613\n",
      "Gradient Descent(4/49): objective=720.9907413148369\n",
      "Gradient Descent(5/49): objective=715.2382349171139\n",
      "Gradient Descent(6/49): objective=711.1080185774268\n",
      "Gradient Descent(7/49): objective=708.1100789289962\n",
      "Gradient Descent(8/49): objective=705.9084315994309\n",
      "Gradient Descent(9/49): objective=704.2712418678465\n",
      "Gradient Descent(10/49): objective=703.0374846206412\n",
      "Gradient Descent(11/49): objective=702.0945497450593\n",
      "Gradient Descent(12/49): objective=701.3631255793681\n",
      "Gradient Descent(13/49): objective=700.7869435574245\n",
      "Gradient Descent(14/49): objective=700.3257840958671\n",
      "Gradient Descent(15/49): objective=699.9506801797878\n",
      "Gradient Descent(16/49): objective=699.6406088594872\n",
      "Gradient Descent(17/49): objective=699.3801950738394\n",
      "Gradient Descent(18/49): objective=699.1581078299688\n",
      "Gradient Descent(19/49): objective=698.9659325325084\n",
      "Gradient Descent(20/49): objective=698.7973726954689\n",
      "Gradient Descent(21/49): objective=698.6476809154398\n",
      "Gradient Descent(22/49): objective=698.5132504450324\n",
      "Gradient Descent(23/49): objective=698.3913200155959\n",
      "Gradient Descent(24/49): objective=698.2797590603523\n",
      "Gradient Descent(25/49): objective=698.1769104076669\n",
      "Gradient Descent(26/49): objective=698.0814743343121\n",
      "Gradient Descent(27/49): objective=697.992422585014\n",
      "Gradient Descent(28/49): objective=697.9089342458274\n",
      "Gradient Descent(29/49): objective=697.8303476560615\n",
      "Gradient Descent(30/49): objective=697.7561241621568\n",
      "Gradient Descent(31/49): objective=697.6858206650937\n",
      "Gradient Descent(32/49): objective=697.6190687328028\n",
      "Gradient Descent(33/49): objective=697.5555586384422\n",
      "Gradient Descent(34/49): objective=697.495027111916\n",
      "Gradient Descent(35/49): objective=697.4372479026222\n",
      "Gradient Descent(36/49): objective=697.3820244790351\n",
      "Gradient Descent(37/49): objective=697.329184358537\n",
      "Gradient Descent(38/49): objective=697.2785746852895\n",
      "Gradient Descent(39/49): objective=697.2300587666316\n",
      "Gradient Descent(40/49): objective=697.183513347901\n",
      "Gradient Descent(41/49): objective=697.1388264577861\n",
      "Gradient Descent(42/49): objective=697.0958956957468\n",
      "Gradient Descent(43/49): objective=697.0546268629419\n",
      "Gradient Descent(44/49): objective=697.0149328608449\n",
      "Gradient Descent(45/49): objective=696.9767327990826\n",
      "Gradient Descent(46/49): objective=696.9399512673167\n",
      "Gradient Descent(47/49): objective=696.9045177361759\n",
      "Gradient Descent(48/49): objective=696.8703660600796\n",
      "Gradient Descent(49/49): objective=696.8374340608425\n",
      "Gradient Descent: execution time=0.002 seconds\n"
     ]
    }
   ],
   "source": [
    "max_iters = 50\n",
    "\n",
    "# ***************************************************\n",
    "# INSERT YOUR CODE HERE\n",
    "# TODO: Compute learning rate based on bounded gradient\n",
    "# ***************************************************\n",
    "\n",
    "gamma = 10 / grad_norm_bound  \n",
    "print(\"grad_norm_bound:\", grad_norm_bound)\n",
    "print(\"gamma:\", gamma)\n",
    "\n",
    "# Initialization\n",
    "x_initial = np.zeros(A.shape[1])\n",
    "\n",
    "# Start gradient descent.\n",
    "start_time = datetime.datetime.now()\n",
    "bd_gradient_objectives, bd_gradient_xs = gradient_descent(b, A, x_initial, max_iters, gamma)\n",
    "end_time = datetime.datetime.now()\n",
    "\n",
    "\n",
    "# Print result\n",
    "exection_time = (end_time - start_time).total_seconds()\n",
    "print(\"Gradient Descent: execution time={t:.3f} seconds\".format(t=exection_time))\n",
    "\n",
    "# Averaging the iterates as is the case for bounded gradients case\n",
    "bd_gradient_objectives_averaged = []\n",
    "for i in range(len(bd_gradient_xs)):\n",
    "    if i > 0:\n",
    "        bd_gradient_xs[i] = (i * bd_gradient_xs[i-1] + bd_gradient_xs[i])/(i + 1)\n",
    "    grad, err = compute_gradient(b, A, bd_gradient_xs[i])\n",
    "    obj = calculate_objective(err)\n",
    "    bd_gradient_objectives_averaged.append(obj)"
   ]
  },
  {
   "cell_type": "markdown",
   "metadata": {
    "id": "g_7tLdoqpDb4"
   },
   "source": [
    "## Gradient descent using smoothness\n",
    "Fill in the learning rate using smoothness of the function"
   ]
  },
  {
   "cell_type": "code",
   "execution_count": 194,
   "metadata": {
    "id": "3amWyBchpDb4"
   },
   "outputs": [
    {
     "name": "stdout",
     "output_type": "stream",
     "text": [
      "Gradient Descent(0/49): objective=780.8686016504854\n",
      "Gradient Descent(1/49): objective=773.251154488717\n",
      "Gradient Descent(2/49): objective=766.3890713588925\n",
      "Gradient Descent(3/49): objective=760.2039370530574\n",
      "Gradient Descent(4/49): objective=754.6257563657889\n",
      "Gradient Descent(5/49): objective=749.5920220920866\n",
      "Gradient Descent(6/49): objective=745.046889499426\n",
      "Gradient Descent(7/49): objective=740.9404446521098\n",
      "Gradient Descent(8/49): objective=737.2280555322218\n",
      "Gradient Descent(9/49): objective=733.8697962622064\n",
      "Gradient Descent(10/49): objective=730.8299359180801\n",
      "Gradient Descent(11/49): objective=728.0764844539572\n",
      "Gradient Descent(12/49): objective=725.580789158749\n",
      "Gradient Descent(13/49): objective=723.317175852385\n",
      "Gradient Descent(14/49): objective=721.2626297169031\n",
      "Gradient Descent(15/49): objective=719.3965112603233\n",
      "Gradient Descent(16/49): objective=717.7003034395566\n",
      "Gradient Descent(17/49): objective=716.1573864323553\n",
      "Gradient Descent(18/49): objective=714.7528369557789\n",
      "Gradient Descent(19/49): objective=713.47324938702\n",
      "Gradient Descent(20/49): objective=712.3065762579041\n",
      "Gradient Descent(21/49): objective=711.241985972315\n",
      "Gradient Descent(22/49): objective=710.2697358408802\n",
      "Gradient Descent(23/49): objective=709.3810587435117\n",
      "Gradient Descent(24/49): objective=708.5680619213746\n",
      "Gradient Descent(25/49): objective=707.8236365686215\n",
      "Gradient Descent(26/49): objective=707.1413770434442\n",
      "Gradient Descent(27/49): objective=706.5155086500336\n",
      "Gradient Descent(28/49): objective=705.9408230599074\n",
      "Gradient Descent(29/49): objective=705.4126205446067\n",
      "Gradient Descent(30/49): objective=704.9266582834891\n",
      "Gradient Descent(31/49): objective=704.4791040917067\n",
      "Gradient Descent(32/49): objective=704.0664949855989\n",
      "Gradient Descent(33/49): objective=703.6857000667632\n",
      "Gradient Descent(34/49): objective=703.333887262911\n",
      "Gradient Descent(35/49): objective=703.0084935140999\n",
      "Gradient Descent(36/49): objective=702.7071980377789\n",
      "Gradient Descent(37/49): objective=702.42789834596\n",
      "Gradient Descent(38/49): objective=702.1686887232516\n",
      "Gradient Descent(39/49): objective=701.927840906029\n",
      "Gradient Descent(40/49): objective=701.703786731037\n",
      "Gradient Descent(41/49): objective=701.495102546697\n",
      "Gradient Descent(42/49): objective=701.3004952025822\n",
      "Gradient Descent(43/49): objective=701.1187894523173\n",
      "Gradient Descent(44/49): objective=700.9489166227798\n",
      "Gradient Descent(45/49): objective=700.7899044181594\n",
      "Gradient Descent(46/49): objective=700.6408677414381\n",
      "Gradient Descent(47/49): objective=700.5010004283125\n",
      "Gradient Descent(48/49): objective=700.3695677996996\n",
      "Gradient Descent(49/49): objective=700.2458999488812\n",
      "Gradient Descent: execution time=0.001 seconds\n"
     ]
    }
   ],
   "source": [
    "max_iters = 50\n",
    "\n",
    "\n",
    "# ***************************************************\n",
    "# INSERT YOUR CODE HERE\n",
    "# TODO: a better learning rate using the smoothness of f\n",
    "# ***************************************************\n",
    "L = np.linalg.norm(A.T @ A, 2)\n",
    "gamma = 100 / L\n",
    "\n",
    "# Initialization\n",
    "x_initial = np.zeros(A.shape[1])\n",
    "\n",
    "# Start gradient descent.\n",
    "start_time = datetime.datetime.now()\n",
    "gradient_objectives, gradient_xs = gradient_descent(b, A, x_initial, max_iters, gamma)\n",
    "end_time = datetime.datetime.now()\n",
    "\n",
    "# Print result\n",
    "exection_time = (end_time - start_time).total_seconds()\n",
    "print(\"Gradient Descent: execution time={t:.3f} seconds\".format(t=exection_time))"
   ]
  },
  {
   "cell_type": "markdown",
   "metadata": {
    "id": "_1QU8kW2pDb4"
   },
   "source": [
    "## Plotting the Evolution of the Objective Function"
   ]
  },
  {
   "cell_type": "code",
   "execution_count": 195,
   "metadata": {
    "id": "xkW2pJKXpDb5"
   },
   "outputs": [
    {
     "data": {
      "image/png": "[encoded data removed]",
      "text/plain": [
       "<Figure size 800x800 with 1 Axes>"
      ]
     },
     "metadata": {},
     "output_type": "display_data"
    }
   ],
   "source": [
    "plt.figure(figsize=(8, 8))\n",
    "plt.xlabel('Number of steps')\n",
    "plt.ylabel('Objective Function')\n",
    "#plt.yscale(\"log\")\n",
    "plt.plot(range(len(gradient_objectives)), gradient_objectives,'r', label='gradient descent with 1/L stepsize')\n",
    "plt.plot(range(len(bd_gradient_objectives)), bd_gradient_objectives,'b', label='gradient descent assuming bounded gradients')\n",
    "plt.plot(range(len(bd_gradient_objectives_averaged)), bd_gradient_objectives_averaged,'g', label='gradient descent assuming bounded gradients with averaged iterates')\n",
    "plt.legend(loc='upper right')\n",
    "plt.show()"
   ]
  }
 ],
 "metadata": {
  "anaconda-cloud": {},
  "colab": {
   "provenance": []
  },
  "kernelspec": {
   "display_name": "Python [conda env:base] *",
   "language": "python",
   "name": "conda-base-py"
  },
  "language_info": {
   "codemirror_mode": {
    "name": "ipython",
    "version": 3
   },
   "file_extension": ".py",
   "mimetype": "text/x-python",
   "name": "python",
   "nbconvert_exporter": "python",
   "pygments_lexer": "ipython3",
   "version": "3.13.5"
  }
 },
 "nbformat": 4,
 "nbformat_minor": 4
}
